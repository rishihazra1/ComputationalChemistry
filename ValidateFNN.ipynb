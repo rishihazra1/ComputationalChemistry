{
 "cells": [
  {
   "cell_type": "code",
   "execution_count": null,
   "metadata": {},
   "outputs": [],
   "source": [
    "import tensorflow as tf\n",
    "import pandas as pd\n",
    "import numpy as np\n",
    "import pickle as pk\n",
    "import molecular_energy.py as mp"
   ]
  },
  {
   "cell_type": "code",
   "execution_count": null,
   "metadata": {},
   "outputs": [],
   "source": [
    "sess = tf.Session()    \n",
    "saver = tf.train.import_meta_graph(\"models/my_model_2080.ckpt.meta\")\n",
    "saver.restore(sess,\"models/my_model_2080.ckpt\")\n",
    "graph = tf.get_default_graph()"
   ]
  },
  {
   "cell_type": "code",
   "execution_count": null,
   "metadata": {
    "scrolled": true
   },
   "outputs": [],
   "source": [
    "dat = mp.molecule_prediction_data_wrapper()"
   ]
  },
  {
   "cell_type": "code",
   "execution_count": null,
   "metadata": {},
   "outputs": [],
   "source": [
    "prediction = graph.get_tensor_by_name('dnn/dense_3/BiasAdd:0')\n",
    "input_t = graph.get_tensor_by_name('IteratorGetNext:0')"
   ]
  },
  {
   "cell_type": "code",
   "execution_count": null,
   "metadata": {},
   "outputs": [],
   "source": [
    "i = 0\n",
    "for molecule in dat.molecules_test:\n",
    "    print(molecule)\n",
    "    a = dat.get_output_vector(molecule)\n",
    "    b = sess.run(prediction, feed_dict={input_t: dat.get_input_vector(molecule).reshape((1,240))})\n",
    "    print(\"actual \" , a, \"predicted \", b, \"error \", \n",
    "          np.sqrt(np.sum((a-b)**2)))\n",
    "    i = i+1\n",
    "    if i > 0:\n",
    "        break"
   ]
  },
  {
   "cell_type": "code",
   "execution_count": null,
   "metadata": {},
   "outputs": [],
   "source": []
  }
 ],
 "metadata": {
  "kernelspec": {
   "display_name": "Python 3",
   "language": "python",
   "name": "python3"
  },
  "language_info": {
   "codemirror_mode": {
    "name": "ipython",
    "version": 3
   },
   "file_extension": ".py",
   "mimetype": "text/x-python",
   "name": "python",
   "nbconvert_exporter": "python",
   "pygments_lexer": "ipython3",
   "version": "3.7.3"
  }
 },
 "nbformat": 4,
 "nbformat_minor": 1
}
