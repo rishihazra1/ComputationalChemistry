{
 "cells": [
  {
   "cell_type": "code",
   "execution_count": null,
   "metadata": {},
   "outputs": [],
   "source": [
    "# import tensorflow as tf\n",
    "import prepare_fnn_data.py as mp"
   ]
  },
  {
   "cell_type": "code",
   "execution_count": null,
   "metadata": {},
   "outputs": [],
   "source": [
    "dat = mp.data_wrapper()\n",
    "\n",
    "num_epochs = 5000\n",
    "batchSize = 64\n",
    "\n",
    "batch_gen = dat.batch_gen#batch_generator(batch_size=batchSize)\n",
    "\n",
    "dataset = tf.data.Dataset.\\\n",
    "    from_generator(batch_gen.generate, (tf.float32,tf.float32),\n",
    "                   output_shapes= (tf.TensorShape([1050]), \n",
    "                                   tf.TensorShape([3])))                                                     \n",
    "dataset = dataset.shuffle(buffer_size = batchSize*10) \n",
    "dataset = dataset.repeat(num_epochs).batch(batchSize)\n",
    "dataset = dataset.prefetch(buffer_size = 2)\n",
    "data_source =  dataset.make_one_shot_iterator()\n",
    "X_batch, Y_batch = data_source.get_next()"
   ]
  },
  {
   "cell_type": "code",
   "execution_count": null,
   "metadata": {},
   "outputs": [],
   "source": [
    "with tf.name_scope(\"dnn\"):\n",
    "    global X_batch, loss, prediction\n",
    "    hidden1 = tf.keras.layers.Dense(1024,activation='elu')(X_batch)\n",
    "    hidden2 = tf.keras.layers.Dense(2048,activation='relu')(hidden1)\n",
    "    dropout = tf.keras.layers.Dropout(rate=0.2)(hidden2)\n",
    "    hidden3 =  tf.keras.layers.Dense(1024,activation='elu')(dropout)\n",
    "    prediction = tf.keras.layers.Dense(3)(hidden2)\n",
    "    \n",
    "with tf.name_scope(\"loss\"):\n",
    "    loss = tf.losses.mean_squared_error(Y_batch, prediction)"
   ]
  },
  {
   "cell_type": "code",
   "execution_count": null,
   "metadata": {},
   "outputs": [],
   "source": [
    "print(prediction.name)\n",
    "print(X_batch.name)"
   ]
  },
  {
   "cell_type": "code",
   "execution_count": null,
   "metadata": {},
   "outputs": [],
   "source": [
    "learning_rate = 0.001\n",
    "with tf.name_scope(\"train\"):\n",
    "    global training_op\n",
    "    optimizer = tf.train.AdamOptimizer(learning_rate=learning_rate)\n",
    "    training_op = optimizer.minimize(loss) "
   ]
  },
  {
   "cell_type": "code",
   "execution_count": null,
   "metadata": {},
   "outputs": [],
   "source": [
    "init = tf.global_variables_initializer()\n",
    "saver = tf.train.Saver()"
   ]
  },
  {
   "cell_type": "code",
   "execution_count": null,
   "metadata": {},
   "outputs": [],
   "source": []
  },
  {
   "cell_type": "code",
   "execution_count": null,
   "metadata": {},
   "outputs": [],
   "source": [
    "with tf.Session() as sess:\n",
    "    init.run()\n",
    "    for epoch in range(num_epochs):\n",
    "        for iteration in range(batch_gen.samples// batchSize):\n",
    "            _,loss_value = sess.run([training_op,loss])\n",
    "            if iteration % 500 == 0:\n",
    "                print(\"Epoch \" + str(epoch) + \" Step \" + str(iteration) + \" loss \" + str(loss_value))\n",
    "        if epoch % 20 == 0:\n",
    "            save_path = saver.save(sess, \"../models/my_model_\" + str(epoch) + \".ckpt\")"
   ]
  }
 ],
 "metadata": {
  "celltoolbar": "Raw Cell Format",
  "kernelspec": {
   "display_name": "Python 3",
   "language": "python",
   "name": "python3"
  },
  "language_info": {
   "codemirror_mode": {
    "name": "ipython",
    "version": 3
   },
   "file_extension": ".py",
   "mimetype": "text/x-python",
   "name": "python",
   "nbconvert_exporter": "python",
   "pygments_lexer": "ipython3",
   "version": "3.7.3"
  }
 },
 "nbformat": 4,
 "nbformat_minor": 1
}
